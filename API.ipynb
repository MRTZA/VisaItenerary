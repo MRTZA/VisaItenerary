{
 "cells": [
  {
   "cell_type": "code",
   "execution_count": 2,
   "metadata": {},
   "outputs": [],
   "source": [
    "#!/usr/bin/python\n",
    "import csv\n",
    "import pandas as pd\n",
    "import random\n",
    "\n",
    "#Input values that we are looking for\n",
    "cardholder_category = \"Restaurant\"\n",
    "cardholder_location = \"San Francisco\"\n",
    "\n",
    "\n",
    "#Opens up the Transaction CSV to be read\n",
    "with open('TransactionMockDataBig.csv') as csvfile:\n",
    "    readCSV = csv.reader(csvfile, delimiter=',')\n",
    "    \n",
    "    #Array to store recommendations and send to issuer\n",
    "    iteneraryArray = []\n",
    "    #Reading each row\n",
    "    for row in readCSV:\n",
    "        category = row[3]\n",
    "        merchant_name = row[1]\n",
    "        location = row[2]\n",
    "\n",
    "        if row[3] != \"Category\":\n",
    "            iteneraryArray.append([category,merchant_name,location])\n",
    "\n",
    "    #remove duplicates for testing purposes\t\n",
    "    duplicateMerchant = []\n",
    "    output = []\n",
    "    for x in iteneraryArray:\n",
    "        if x[1] not in duplicateMerchant:\n",
    "            duplicateMerchant.append(x[1])\n",
    "            output.append(x)\n",
    "\n",
    "#selecting 3 different options\n",
    "sampling = random.sample(output, k=3)\n",
    "sampling.insert(0,[\"Category\",\"Merchant_name\",\"Location\"]) \n",
    "\n",
    "#Opens the Iternerary CSV to send to issuers\n",
    "with open('IterneraryRecommendation.csv','w') as file:\n",
    "    writer = csv.writer(file, delimiter=',')\n",
    "    writer.writerows(sampling)"
   ]
  }
 ],
 "metadata": {
  "kernelspec": {
   "display_name": "Python 3",
   "language": "python",
   "name": "python3"
  },
  "language_info": {
   "codemirror_mode": {
    "name": "ipython",
    "version": 3
   },
   "file_extension": ".py",
   "mimetype": "text/x-python",
   "name": "python",
   "nbconvert_exporter": "python",
   "pygments_lexer": "ipython3",
   "version": "3.8.3"
  }
 },
 "nbformat": 4,
 "nbformat_minor": 4
}
